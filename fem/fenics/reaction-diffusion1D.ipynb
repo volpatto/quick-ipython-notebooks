{
 "cells": [
  {
   "cell_type": "markdown",
   "metadata": {},
   "source": [
    "# 1D Reaction-Diffusion problem\n",
    "\n",
    "## General formulation\n",
    "\n",
    "This is a well known problem to FEM with Continuous Galerkin approximation. Spurious oscillations rise when certain (not rare) conditions are met. The general problem consists in:\n",
    "\n",
    "Find $u \\in \\mathbb{C}^2(\\overline{\\Omega})$ in a closed domain $\\overline{\\Omega}\\subset \\mathbb{R}^n\\,(n=1,2,3)$  such that:\n",
    "\n",
    "\\begin{equation}\n",
    "\\left\\{\n",
    "\\begin{aligned}\n",
    "- &k \\Delta u + \\sigma u = f(x), \\quad \\forall x \\in \\Omega \\\\\n",
    "&\\left. u \\right|_{\\partial \\Omega} = g(x)\n",
    "\\end{aligned}\n",
    "\\right.\n",
    "\\end{equation}\n",
    "where $\\overline{\\Omega} := \\Omega \\cup \\partial \\Omega$ denotes the closed domain, $\\Omega$ is the open domain and $\\partial \\Omega$ is the domain's boundary (the closure). Note that $\\Omega \\cap \\partial \\Omega = \\emptyset$. The solution is a scalar field such that $u: \\overline{\\Omega} \\to \\mathbb{R}$. Also, we have the \"source term\" that is a scalar field of the same form, $f: \\overline{\\Omega} \\to \\mathbb{R}$, but this function is a given data to the (direct) problem. The $g(x)$ is a prescribed function applied to the boundary, which is also a given data to the problem. The parameter $k$ (here a scalar field like $u$) sometimes is named as \"diffusivity coefficient\" related to the quantity $u$, in a physical context (transport of a quantity, look for Reynolds' Theorem for further clarifications). In some contexts, parameter $k$ must be a 2-rank tensor, as in anisotropic Porous Media flows. Analagously, we have the parameter $\\sigma: \\overline{\\Omega} \\to \\mathbb{R}$, which is denoted (in some contexts) as the \"reaction coefficient\" related to the proportional rate that $u$ is changing due to generation/consumption. Parameters $k$ and $\\sigma$ are given data to the (direct) problem too.\n",
    "\n",
    "\n",
    "P.S.: I will not discuss the ill problems formulation, neither others mathematical requirements to assert the well-posedness of the problem, uniqueness and so on.\n",
    "\n",
    "## 1D simplification\n",
    "\n",
    "In some scenarios, the mathematical modeling approach can be simplified to the 1D case, which is written as follows:\n",
    "\n",
    "Find $u \\in \\mathbb{C}^2$ such that:\n",
    "\n",
    "\\begin{equation}\n",
    "\\left\\{\n",
    "\\begin{aligned}\n",
    "- &k u''(x) + \\sigma u(x) = f(x), \\quad \\forall x \\in ((x_1, x_2) \\subset \\mathbb{R}) \\\\\n",
    "&u(x_1) = u_1 \\\\\n",
    "&u(x_2) = u_2\n",
    "\\end{aligned}\n",
    "\\right.\n",
    "\\end{equation}\n",
    "\n",
    "where $u_1, u_2 \\in \\mathbb{R}$ are the prescribed boundary condition values, $u'(x) \\equiv \\dfrac{d u}{d x}$ and thus $u''(x) \\equiv \\dfrac{d^2 u}{d x^2}$. For the sake of simplicity, I will omit the argument of $u$ function. Such aforementioned problems are known as Two-Point Boundary Value problems.\n",
    "\n",
    "### Variational formulation and Galerkin approximation\n",
    "\n",
    "One can find the derivation of the weak form, but I will just give its result below.\n",
    "\n",
    "Given the space of admissible solution:\n",
    "\n",
    "\\begin{equation}\n",
    "\\mathcal{U} (\\overline{\\Omega}) := \\left\\{ u \\in H^1 (\\overline{\\Omega}) \\left| \\,u(x_1) = u_1, u(x_2) = u_2 \\right. \\right\\}\n",
    "\\end{equation}\n",
    "\n",
    "and the space of suitable variations as\n",
    "\n",
    "\\begin{equation}\n",
    "\\mathcal{V} (\\overline{\\Omega}) := \\left\\{ v \\in H^1 (\\overline{\\Omega}) \\left| \\,u(x_1) = u(x_2) = 0 \\right. \\right\\}\n",
    "\\end{equation}\n",
    "\n",
    "The discretization of the above spaces is performed by Galerkin approximation with Lagrangean function space $\\mathbb{P}$ of order $k$ defined over $\\overline{\\Omega}$. Thus we define here:\n",
    "\n",
    "\\begin{equation}\n",
    "            \\mathcal{S}_h^k(\\overline{\\Omega}) := \\left\\{ \\varphi_h \\in \\mathcal{C}(\\Omega^e): \\left.\\varphi\\right|_{\\Omega^e} \n",
    "            \\in \\mathbb{P}_k(\\Omega^e), \\forall \\Omega^e \\in \\mathcal{T}_h \\right\\}\n",
    "\\end{equation}\n",
    "\n",
    "the space of Lagrange polynomials subject to a domain partition $\\mathcal{T}_h:=\\cup \\Omega^e \\approx \\overline{\\Omega}$ and $\\cap \\Omega^e = \\emptyset$ (non-overlapping elements). Thus\n",
    "\n",
    "\\begin{equation}\n",
    "    \\mathcal{U}_h := \\mathcal{U} \\cap \\mathcal{S}_h^k \\quad \\text{and} \\quad\n",
    "    \\mathcal{V}_h := \\mathcal{V} \\cap \\mathcal{S}_h^k\n",
    "\\end{equation}\n",
    "\n",
    "we have the discretized spaces.\n",
    "\n",
    "Now, we can stated out our \"discretized\" Variational Formulation as:\n",
    "\n",
    "Find $u_h \\in \\mathcal{U}_h$ such that\n",
    "\n",
    "\\begin{equation}\n",
    "a(u_h, v_h) = F(v_h), \\quad \\forall v_h \\in \\mathcal{V}_h\n",
    "\\end{equation}\n",
    "\n",
    "where\n",
    "\n",
    "\\begin{align}\n",
    "a(u, v) &:= \\int_{\\Omega} u' v' dx\n",
    "          + \\int_{\\Omega} \\sigma u v dx\\\\\n",
    "F(v) &:= \\int_{\\Omega} f v dx\n",
    "\\end{align}\n",
    "\n",
    "and the domain is $\\overline{\\Omega} \\equiv [x_1, x_2]$."
   ]
  },
  {
   "cell_type": "markdown",
   "metadata": {},
   "source": [
    "## A practical FEniCS example\n",
    "\n",
    "Solve this in FEniCS is very straightforward compared to classical FEM codes. The FEniCS framework provides a high-level interface which eases the pain at most.\n",
    "\n",
    "Just for learning purpose, let the given data be setted as:\n",
    "\n",
    "\\begin{align*}\n",
    "&f(x) \\equiv f = 1 & \\\\\n",
    "&u_1 = u_2 = 0 & \\\\\n",
    "&x_1 = 0, &x_2 = 1 \\\\\n",
    "&k = 10^{-8}, &\\sigma = 1 \n",
    "\\end{align*}\n",
    "\n",
    "With the source term as $f(x) = 1$, the exact solution can be easily obtained:\n",
    "\n",
    "\\begin{equation}\n",
    "u(x) \\approx\n",
    "\\left\\{ \n",
    "\\begin{aligned}\n",
    "&u(x) = 1, &\\text{if } x \\in (x_1, x_2) \\\\\n",
    "&u(x) = 0, &\\text{if } x = x_1 \\text{ or } x = x_2 \n",
    "\\end{aligned}\n",
    "\\right.\n",
    "\\end{equation}\n",
    "\n",
    "for small values of $k$, say $k = 10^{-8}$.\n",
    "\n",
    "So, how to solve the problem with FEniCS? We will construct the procedures stepwisely."
   ]
  },
  {
   "cell_type": "markdown",
   "metadata": {},
   "source": [
    "* Importing all the libs we'll need. "
   ]
  },
  {
   "cell_type": "code",
   "execution_count": 1,
   "metadata": {},
   "outputs": [],
   "source": [
    "from fenics import *  # all the FEniCS namespace (not a recommended Python practice)\n",
    "import matplotlib.pyplot as plt\n",
    "from matplotlib import rc\n",
    "import numpy as np"
   ]
  },
  {
   "cell_type": "markdown",
   "metadata": {},
   "source": [
    "* Defining the domain and related mesh"
   ]
  },
  {
   "cell_type": "code",
   "execution_count": 2,
   "metadata": {},
   "outputs": [],
   "source": [
    "x_left = 0.0\n",
    "x_right = 1.0\n",
    "numel = 15\n",
    "mesh = IntervalMesh(numel, x_left, x_right)  # IntervalMesh(num_of_elements, inf_interval, sup_interval)\n",
    "mesh_ref = IntervalMesh(100, x_left, x_right)"
   ]
  },
  {
   "cell_type": "markdown",
   "metadata": {},
   "source": [
    "* Setting the degree of the functions in the Continuous Galerkin method and the variation space. Additionaly, we define here a space to be employed in the projection of the reference analytical solution"
   ]
  },
  {
   "cell_type": "code",
   "execution_count": 3,
   "metadata": {},
   "outputs": [],
   "source": [
    "p = 1\n",
    "V = FunctionSpace(mesh, \"CG\", p)  # \"CG\" stands for Continuous Galerkin, p is the degree\n",
    "Vref = FunctionSpace(mesh_ref, \"CG\", p)"
   ]
  },
  {
   "cell_type": "markdown",
   "metadata": {},
   "source": [
    "* Defining a Python function which marks the boundaries"
   ]
  },
  {
   "cell_type": "code",
   "execution_count": 4,
   "metadata": {},
   "outputs": [],
   "source": [
    "def left(x, on_boundary):\n",
    "    return x < 0+DOLFIN_EPS\n",
    "def right(x, on_boundary):\n",
    "    return x > 1-DOLFIN_EPS"
   ]
  },
  {
   "cell_type": "markdown",
   "metadata": {},
   "source": [
    "* Setting the prescribed boundary values"
   ]
  },
  {
   "cell_type": "code",
   "execution_count": 5,
   "metadata": {},
   "outputs": [],
   "source": [
    "u1, u2 = 0.0, 0.0\n",
    "g_left = Constant(u1)\n",
    "g_right = Constant(u2)"
   ]
  },
  {
   "cell_type": "markdown",
   "metadata": {},
   "source": [
    "* Now we modify the spaces, as expected"
   ]
  },
  {
   "cell_type": "code",
   "execution_count": 6,
   "metadata": {},
   "outputs": [],
   "source": [
    "bc_left = DirichletBC(V, g_left, left)\n",
    "bc_right = DirichletBC(V, g_right, right)\n",
    "dirichlet_condition = [bc_left, bc_right]"
   ]
  },
  {
   "cell_type": "markdown",
   "metadata": {},
   "source": [
    "* Here we define the source function over the domain"
   ]
  },
  {
   "cell_type": "code",
   "execution_count": 7,
   "metadata": {},
   "outputs": [],
   "source": [
    "f = Expression(\"1.0\", domain=mesh, degree=p)"
   ]
  },
  {
   "cell_type": "markdown",
   "metadata": {},
   "source": [
    "* Now comes the good part. We set up the Trial and Test functions from the admissible space"
   ]
  },
  {
   "cell_type": "code",
   "execution_count": 8,
   "metadata": {},
   "outputs": [],
   "source": [
    "u_h = TrialFunction(V)\n",
    "v_h = TestFunction(V)"
   ]
  },
  {
   "cell_type": "markdown",
   "metadata": {},
   "source": [
    "* The parameters of the problem"
   ]
  },
  {
   "cell_type": "code",
   "execution_count": 9,
   "metadata": {},
   "outputs": [],
   "source": [
    "k = Constant(1e-8)\n",
    "sigma = Constant(1.0)"
   ]
  },
  {
   "cell_type": "markdown",
   "metadata": {},
   "source": [
    "* Then we write the unsymmetric form, very much like it is written in mathematical form"
   ]
  },
  {
   "cell_type": "code",
   "execution_count": 10,
   "metadata": {},
   "outputs": [],
   "source": [
    "a = k*inner(grad(v_h), grad(u_h))*dx + sigma*inner(u_h, v_h)*dx"
   ]
  },
  {
   "cell_type": "markdown",
   "metadata": {},
   "source": [
    "* Also we define the associated linear form"
   ]
  },
  {
   "cell_type": "code",
   "execution_count": 11,
   "metadata": {},
   "outputs": [],
   "source": [
    "L = f*v_h*dx"
   ]
  },
  {
   "cell_type": "markdown",
   "metadata": {},
   "source": [
    "* Now we declare the solution variable"
   ]
  },
  {
   "cell_type": "code",
   "execution_count": 12,
   "metadata": {},
   "outputs": [],
   "source": [
    "u_sol = Function(V)"
   ]
  },
  {
   "cell_type": "markdown",
   "metadata": {},
   "source": [
    "* Thus we set the discretized variational problem to be solved"
   ]
  },
  {
   "cell_type": "code",
   "execution_count": 13,
   "metadata": {},
   "outputs": [],
   "source": [
    "problem = LinearVariationalProblem(a, L, u_sol, dirichlet_condition)"
   ]
  },
  {
   "cell_type": "markdown",
   "metadata": {},
   "source": [
    "* And we go further and solve it with no difficulties!"
   ]
  },
  {
   "cell_type": "code",
   "execution_count": 14,
   "metadata": {},
   "outputs": [],
   "source": [
    "solver = LinearVariationalSolver(problem)\n",
    "solver.solve()"
   ]
  },
  {
   "cell_type": "markdown",
   "metadata": {},
   "source": [
    "* But we will need to check if the solution is \"good enough\". So we compare with the available exact solution"
   ]
  },
  {
   "cell_type": "code",
   "execution_count": 15,
   "metadata": {},
   "outputs": [],
   "source": [
    "sol_exact = Expression(\n",
    "    'x[0]<=0+tol || x[0]>=1 - tol ? 0 : 1', \n",
    "    degree=p+1,\n",
    "    tol=DOLFIN_EPS\n",
    ")\n",
    "u_e = interpolate(sol_exact, Vref)\n",
    "u_e = interpolate(sol_exact, Vref)"
   ]
  },
  {
   "cell_type": "markdown",
   "metadata": {},
   "source": [
    "* Now, lets plot our results!"
   ]
  },
  {
   "cell_type": "code",
   "execution_count": 16,
   "metadata": {},
   "outputs": [
    {
     "data": {
      "image/png": "[encoded data removed]",
      "text/plain": [
       "<Figure size 432x288 with 1 Axes>"
      ]
     },
     "metadata": {
      "needs_background": "light"
     },
     "output_type": "display_data"
    }
   ],
   "source": [
    "plot(u_sol, marker='x', label='Approx')\n",
    "plot(u_e, label='Exact')\n",
    "# Setting the font\n",
    "plt.rc('text',usetex=True)\n",
    "plt.rc('font', size=14)\n",
    "# Plotting\n",
    "plt.xlim(x_left, x_right)   # Limites do eixo x\n",
    "plt.ylim(np.min(u_sol.vector().get_local()), 1.02*np.max(u_sol.vector().get_local()))  # Limites do eixo y\n",
    "plt.grid(True, linestyle='--')  # Ativa o grid do grafico\n",
    "plt.xlabel(r'$x$')  # Legenda do eixo x\n",
    "plt.ylabel(r'$u(x)$')   # Legenda do eixo y\n",
    "plt.legend(loc='best',borderpad=0.5)    # Ativa legenda no grafico e diz para se posicionar na melhor localizacao detectada\n",
    "plt.show()  # Exibe o grafico em tela"
   ]
  },
  {
   "cell_type": "markdown",
   "metadata": {},
   "source": [
    "## Something seems not good... (Batman?)"
   ]
  },
  {
   "cell_type": "markdown",
   "metadata": {},
   "source": [
    "Terrible, it isn't? This is due the high Damköhler number of the problem $(Da >> 1)$. The Damköhler number is conceptually defined as\n",
    "\n",
    "\\begin{equation}\n",
    "Da := \\frac{\\text{reaction rate of a physical quantity}}{\\text{diffusion rate of a physical quantity}}\n",
    "\\end{equation}\n",
    "\n",
    "In Finite Element context, we evaluate the Damköhler number in an element-wise manner, because this is how we (normally) stabilize the method and vanish the spurious oscillations. The local (within each element, valid for 1D and 2D... I need to confirm for 3D) Damköhler number is denote as\n",
    "\n",
    "\\begin{equation}\n",
    "Da_K \\equiv \\frac{\\sigma h_k^2}{6k}\n",
    "\\end{equation}\n",
    "\n",
    "where $h_K$ is the mesh parameter, related to some characteristic lenght of the element. For further details about what I stated above and for the method I will summarize below, check the paper \"The Galerkin Gradient Least-Squares Method\" (Franca and Do Carmo, 1989). Highly recommend reading for who want to dive in FEM Stabilization methods.\n",
    "\n",
    "So, where all this stuff will be applied?"
   ]
  },
  {
   "cell_type": "markdown",
   "metadata": {},
   "source": [
    "## GGLS stabilization"
   ]
  },
  {
   "cell_type": "markdown",
   "metadata": {},
   "source": [
    "As commented above, this method was proposed by \"The Galerkin Gradient Least-Squares Method\" (Franca and Do Carmo, 1989) aiming to solve singular diffusion problems in reaction dominated cases ($Da >> 1$). The principle is similar to GLS method, but control is gained in $H^1$-seminorm, while classical Galerkin (and GLS) controls over $L^2$-norm.\n",
    "\n",
    "With the modification, the variational problem is rewritten as follows:\n",
    "\n",
    "\\begin{equation}\n",
    "B(u,v) = F(v)\n",
    "\\end{equation}\n",
    "\n",
    "and\n",
    "\n",
    "\\begin{align}\n",
    "&B(u,v) := a(u,v) + R(u,v) \\\\\n",
    "&F(v) := L(v) + S(v)\n",
    "\\end{align}\n",
    "\n",
    "with\n",
    "\n",
    "\\begin{align}\n",
    "&R(u,v) := \\sum_{K}\\tau_k \\left(\\nabla\\left(\\sigma u -k \\Delta u\\right),\n",
    "\\nabla\\left(\\sigma v -k \\Delta v\\right)\\right)_K\\\\\n",
    "&S(v) := \\sum_{K}\\tau_k \\left(f, \\nabla\\left(\\sigma v -k \\Delta v\\right) \\right)_K\n",
    "\\end{align}\n",
    "\n",
    "where\n",
    "\n",
    "\\begin{equation}\n",
    "(u, v)_{K} := \\int_{\\Omega^K} u v dx\n",
    "\\end{equation}\n",
    "\n",
    "denotes the $L^2$ inner product restricted to the element $K$.\n",
    "\n",
    "Note the presence of a stabilizing parameter $\\tau_k$. By this parameter, we control how much we want to add to an element local contribution aiming to stabilize in the local formulation. This parameter is computed locally as follows:\n",
    "\n",
    "\\begin{equation}\n",
    "\\tau_K := \\frac{h_K^2}{6 \\sigma} \\widetilde{\\xi}(Da_K)\n",
    "\\end{equation}\n",
    "\n",
    "where\n",
    "\n",
    "\\begin{equation}\n",
    "\\xi(Da_K) :=\n",
    "\\left\\{\n",
    "\\begin{aligned}\n",
    "&1, &Da_K \\geq 8, \\\\\n",
    "&0.064 Da_K + 0.49, &1 \\leq Da_K < 8 \\\\\n",
    "&0, &Da_K < 1\n",
    "\\end{aligned}\n",
    "\\right.\n",
    "\\end{equation}\n",
    "\n",
    "The above expression is an asymptotic approximation to $\\widetilde{\\xi}$. See the aforementioned paper for further details."
   ]
  },
  {
   "cell_type": "markdown",
   "metadata": {},
   "source": [
    "### 1D GGLS\n",
    "\n",
    "To simplify to 1D, just remember that the gradient reduce to $\\nabla (\\bullet) \\equiv \\dfrac{d (\\bullet)}{d x} = u'$. Thus,\n",
    "\n",
    "\\begin{align}\n",
    "&R(u,v) := \\sum_{K}\\tau_k \\left(\\sigma u' -k u''', \\sigma v' -k v''' \\right)_K \\\\\n",
    "&S(v) := \\sum_{K}\\tau_k \\left(f, \\sigma u' -k v''' \\right)_K\n",
    "\\end{align}"
   ]
  },
  {
   "cell_type": "markdown",
   "metadata": {},
   "source": [
    "## Revisiting the FEniCS implementation"
   ]
  },
  {
   "cell_type": "markdown",
   "metadata": {},
   "source": [
    "Finally, we can stabilize with GGLS the previous Continuous Galerkin FEM approach."
   ]
  },
  {
   "cell_type": "markdown",
   "metadata": {},
   "source": [
    "* First, we need to define the stabilizing parameter and its related quantities"
   ]
  },
  {
   "cell_type": "code",
   "execution_count": 17,
   "metadata": {},
   "outputs": [],
   "source": [
    "h = CellDiameter(mesh)\n",
    "Da_k = (sigma*pow(h,2))/(6.0*k)\n",
    "eps = conditional(ge(Da_k,8),1,conditional(ge(Da_k,1),0.064*Da_k+0.49,0))\n",
    "tau = (eps*(pow(h,2)))/(6.0*sigma)"
   ]
  },
  {
   "cell_type": "markdown",
   "metadata": {},
   "source": [
    "* Now we add the stabilizing terms to the classical Galerkin formulation"
   ]
  },
  {
   "cell_type": "code",
   "execution_count": 18,
   "metadata": {},
   "outputs": [],
   "source": [
    "a += inner(grad(sigma*u_h - k*div(grad(u_h))), tau*grad(sigma*v_h - k*div(grad(v_h))))*dx\n",
    "L += inner(grad(f), tau*grad(sigma*v_h - k*div(grad(v_h))))*dx"
   ]
  },
  {
   "cell_type": "markdown",
   "metadata": {},
   "source": [
    "* Redefining the problem"
   ]
  },
  {
   "cell_type": "code",
   "execution_count": 19,
   "metadata": {},
   "outputs": [],
   "source": [
    "u_sol = Function(V)\n",
    "problem = LinearVariationalProblem(a, L, u_sol, dirichlet_condition)"
   ]
  },
  {
   "cell_type": "markdown",
   "metadata": {},
   "source": [
    "* Solving the stabilized problem"
   ]
  },
  {
   "cell_type": "code",
   "execution_count": 20,
   "metadata": {},
   "outputs": [],
   "source": [
    "solver = LinearVariationalSolver(problem)\n",
    "solver.solve()"
   ]
  },
  {
   "cell_type": "markdown",
   "metadata": {},
   "source": [
    "* Now we plot the results to check"
   ]
  },
  {
   "cell_type": "code",
   "execution_count": 21,
   "metadata": {},
   "outputs": [
    {
     "data": {
      "image/png": "[encoded data removed]",
      "text/plain": [
       "<Figure size 432x288 with 1 Axes>"
      ]
     },
     "metadata": {
      "needs_background": "light"
     },
     "output_type": "display_data"
    }
   ],
   "source": [
    "plot(u_sol, marker='x', label='Approx')\n",
    "plot(u_e, label='Exact')\n",
    "# Configuracoes de fontes no grafico\n",
    "plt.rc('text',usetex=True)\n",
    "plt.rc('font', size=14)\n",
    "# Plotando\n",
    "plt.xlim(x_left, x_right)   # Limites do eixo x\n",
    "plt.ylim(np.min(u_sol.vector().get_local()), 1.05*np.max(u_e.vector().get_local()))  # Limites do eixo y\n",
    "plt.grid(True, linestyle='--')  # Ativa o grid do grafico\n",
    "plt.xlabel(r'$x$')  # Legenda do eixo x\n",
    "plt.ylabel(r'$u(x)$')   # Legenda do eixo y\n",
    "plt.legend(loc='best',borderpad=0.5)    # Ativa legenda no grafico e diz para se posicionar na melhor localizacao detectada\n",
    "plt.show()  # Exibe o grafico em tela"
   ]
  },
  {
   "cell_type": "markdown",
   "metadata": {},
   "source": [
    "Now things look right."
   ]
  },
  {
   "cell_type": "markdown",
   "metadata": {},
   "source": [
    "## Another stabilization: Galerkin Least Squares (GLS)\n",
    "\n",
    "An alternative stabilization is the very well known method named Galerkin Least Squares, or GLS for short.\n",
    "This methods was introduced by Hughes, Franca and Hulbert (see the paper \"A new finite element formulation for computational fluid dynamics: VIII. The Galerkin/least-squares method for advective–diffusive equations\" for further details). The formulation to reaction-diffusion problem was based on a remark provide in the Franca and Do Carmo GGLS paper.\n",
    "\n",
    "It's very similar approach to GGLS method in the modification sense related to the classical Galerkin formulation. Now, we have the following terms to add:\n",
    "\n",
    "\\begin{align}\n",
    "&R_{GLS}(u,v) := \\sum_{K}\\tau_k \\left(\\sigma u -k \\Delta u, \\sigma v -k \\Delta v \\right)_K \\\\\n",
    "&S_{GLS}(v) := \\sum_{K}\\tau_k \\left(f, \\sigma v -k \\Delta v \\right)_K\n",
    "\\end{align}\n",
    "\n",
    "which trivially is extended to 1D as\n",
    "\n",
    "\\begin{align}\n",
    "&R_{GLS}(u,v) := \\sum_{K}\\tau_k \\left(\\sigma u -k u'', \\sigma v -k v''\\right)_K \\\\\n",
    "&S_{GLS}(v) := \\sum_{K}\\tau_k \\left(f, \\sigma v -k v'' \\right)_K\n",
    "\\end{align}"
   ]
  },
  {
   "cell_type": "markdown",
   "metadata": {},
   "source": [
    "### 1D GLS implementation in FEniCS\n",
    "\n",
    "For instance, the stabilization parameter and its parameters can be pretty much the same as in GLS, just for testing purpose. Minor changes are necessary, but we will solve within a different variational problem just to compare the methods."
   ]
  },
  {
   "cell_type": "markdown",
   "metadata": {},
   "source": [
    "* The classical Continuous Galerkin terms"
   ]
  },
  {
   "cell_type": "code",
   "execution_count": 22,
   "metadata": {},
   "outputs": [],
   "source": [
    "a_GLS = k*inner(grad(v_h), grad(u_h))*dx + sigma*inner(u_h, v_h)*dx\n",
    "L_GLS = f*v_h*dx"
   ]
  },
  {
   "cell_type": "markdown",
   "metadata": {},
   "source": [
    "* Adding the GLS terms"
   ]
  },
  {
   "cell_type": "code",
   "execution_count": 23,
   "metadata": {},
   "outputs": [],
   "source": [
    "a_GLS += tau*inner((sigma*u_h - k*div(grad(u_h))), sigma*v_h - k*div(grad(v_h)))*dx\n",
    "L_GLS += tau*inner(f, sigma*v_h - k*div(grad(v_h)))*dx"
   ]
  },
  {
   "cell_type": "markdown",
   "metadata": {},
   "source": [
    "* Now we solve the problem with GLS"
   ]
  },
  {
   "cell_type": "code",
   "execution_count": 24,
   "metadata": {},
   "outputs": [],
   "source": [
    "u_sol_gls = Function(V)\n",
    "problem = LinearVariationalProblem(a_GLS, L_GLS, u_sol_gls, dirichlet_condition)\n",
    "solver = LinearVariationalSolver(problem)\n",
    "solver.solve()"
   ]
  },
  {
   "cell_type": "markdown",
   "metadata": {},
   "source": [
    "* Then we plot:"
   ]
  },
  {
   "cell_type": "code",
   "execution_count": 25,
   "metadata": {},
   "outputs": [
    {
     "data": {
      "image/png": "[encoded data removed]",
      "text/plain": [
       "<Figure size 432x288 with 1 Axes>"
      ]
     },
     "metadata": {
      "needs_background": "light"
     },
     "output_type": "display_data"
    }
   ],
   "source": [
    "plot(u_sol, marker='.', label='GGLS')\n",
    "plot(u_sol_gls, marker='x', label='GLS')\n",
    "plot(u_e, label='Exact')\n",
    "# Configuracoes de fontes no grafico\n",
    "plt.rc('text',usetex=True)\n",
    "plt.rc('font', size=14)\n",
    "# Plotando\n",
    "plt.xlim(x_left, x_right)   # Limites do eixo x\n",
    "plt.ylim(np.min(u_sol.vector().get_local()), 1.02*np.max(u_sol_gls.vector().get_local()))  # Limites do eixo y\n",
    "plt.grid(True, linestyle='--')  # Ativa o grid do grafico\n",
    "plt.xlabel(r'$x$')  # Legenda do eixo x\n",
    "plt.ylabel(r'$u(x)$')   # Legenda do eixo y\n",
    "plt.legend(loc='best',borderpad=0.5)    # Ativa legenda no grafico e diz para se posicionar na melhor localizacao detectada\n",
    "plt.show()  # Exibe o grafico em tela"
   ]
  },
  {
   "cell_type": "markdown",
   "metadata": {},
   "source": [
    "The above result confirms what we expected: GLS can not control spurious oscillation with $Da>>1$ and $p = 1$ while GGLS achieve success controlling $H^1$-seminorm."
   ]
  }
 ],
 "metadata": {
  "author": "l",
  "kernelspec": {
   "display_name": "Python 3",
   "language": "python",
   "name": "python3"
  },
  "language_info": {
   "codemirror_mode": {
    "name": "ipython",
    "version": 3
   },
   "file_extension": ".py",
   "mimetype": "text/x-python",
   "name": "python",
   "nbconvert_exporter": "python",
   "pygments_lexer": "ipython3",
   "version": "3.6.6"
  },
  "latex_envs": {
   "LaTeX_envs_menu_present": true,
   "autoclose": true,
   "autocomplete": true,
   "bibliofile": "biblio.bib",
   "cite_by": "apalike",
   "current_citInitial": 1,
   "eqLabelWithNumbers": true,
   "eqNumInitial": 1,
   "hotkeys": {
    "equation": "Ctrl-E",
    "itemize": "Ctrl-I"
   },
   "labels_anchors": false,
   "latex_user_defs": false,
   "report_style_numbering": false,
   "user_envs_cfg": false
  }
 },
 "nbformat": 4,
 "nbformat_minor": 2
}
