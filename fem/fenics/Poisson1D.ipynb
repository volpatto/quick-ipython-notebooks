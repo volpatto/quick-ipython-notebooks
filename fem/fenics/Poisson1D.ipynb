{
 "cells": [
  {
   "cell_type": "markdown",
   "metadata": {},
   "source": [
    "# Poisson's problem\n",
    "\n",
    "## General formulation\n",
    "\n",
    "Here I provide the \"Hello, world!\" of FEM. The Poisson's problem subject to Dirichlet boundary conditions is stated as:\n",
    "\n",
    "Find $u \\in \\mathbb{C}^2$ such that:\n",
    "\n",
    "\\begin{equation}\n",
    "\\left\\{\n",
    "\\begin{aligned}\n",
    "- &\\Delta u = f(x), \\quad \\forall x \\in (\\Omega \\subset \\mathbb{R}^n) \\\\\n",
    "&\\left. u \\right|_{\\partial \\Omega} = g(x)\n",
    "\\end{aligned}\n",
    "\\right.\n",
    "\\end{equation}\n",
    "where $\\overline{\\Omega} := \\Omega \\cup \\partial \\Omega$ denotes the closed domain, $\\Omega$ is the open domain and $\\partial \\Omega$ is the domain's boundary (the closure). Note that $\\Omega \\cap \\partial \\Omega = \\emptyset$. The solution is a scalar field such that $u: \\overline{\\Omega} \\to \\mathbb{R}$. Also, we have the \"source term\" that is a scalar field of the same form, $f: \\Omega \\to \\mathbb{R}$, but this function is a given data to the (direct) problem. The $g(x)$ is a prescribed function applied to the boundary, which is also a given data to the problem.\n",
    "\n",
    "P.S.: I will not discuss the ill problems formulation, neither others mathematical requirements to assert the well-posedness of the problem.\n",
    "\n",
    "## 1D simplification\n",
    "\n",
    "In some scenarios, the mathematical modeling approach can be simplified to the 1D case, which is written as follows:\n",
    "\n",
    "Find $u \\in \\mathbb{C}^2$ such that:\n",
    "\n",
    "\\begin{equation}\n",
    "\\left\\{\n",
    "\\begin{aligned}\n",
    "- &\\frac{d^2 u}{d x^2} = f(x), \\quad \\forall x \\in ((x_1, x_2) \\subset \\mathbb{R}) \\\\\n",
    "&u(x_1) = u_1 \\\\\n",
    "&u(x_2) = u_2\n",
    "\\end{aligned}\n",
    "\\right.\n",
    "\\end{equation}\n",
    "\n",
    "where $u_1, u_2 \\in \\mathbb{R}$ are the prescribed boundary condition values. Such problems are known as Two-Point Boundary Value problems.\n",
    "\n",
    "### Variational formulation and Galerkin approximation\n",
    "\n",
    "One can find the derivation of the weak form, but I will just give its result below.\n",
    "\n",
    "Given the space of admissible solution:\n",
    "\n",
    "\\begin{equation}\n",
    "\\mathcal{U} (\\Omega) := \\left\\{ u \\in H^1 (\\Omega) \\left| \\,u(x_1) = u_1, u(x_2) = u_2 \\right. \\right\\}\n",
    "\\end{equation}\n",
    "\n",
    "and the space of suitable variations as\n",
    "\n",
    "\\begin{equation}\n",
    "\\mathcal{V} (\\Omega) := \\left\\{ v \\in H^1 (\\Omega) \\left| \\,u(x_1) = u(x_2) = 0 \\right. \\right\\}\n",
    "\\end{equation}\n",
    "\n",
    "The discretization of the above spaces is performed by Galerkin approximation with Lagrangean function space $\\mathbb{P}$ of order $k$ defined over $\\Omega$. Thus we define here:\n",
    "\n",
    "\\begin{equation}\n",
    "            \\mathcal{S}_h^k(\\Omega) := \\left\\{ \\varphi_h \\in \\mathcal{C}(\\Omega^e): \\left.\\varphi\\right|_{\\Omega^e} \n",
    "            \\in \\mathbb{P}_k(\\Omega^e), \\forall \\Omega^e \\in \\mathcal{T}_h \\right\\}\n",
    "\\end{equation}\n",
    "\n",
    "the space of Lagrange polynomials subject to a domain partition $\\mathcal{T}_h:=\\cup \\Omega^e \\approx \\overline{\\Omega}$ and $\\cap \\Omega^e = \\emptyset$ (non-overlapping elements). Thus\n",
    "\n",
    "\\begin{equation}\n",
    "    \\mathcal{U}_h := \\mathcal{U} \\cap \\mathcal{S}_h^k \\quad \\text{and} \\quad\n",
    "    \\mathcal{V}_h := \\mathcal{V} \\cap \\mathcal{S}_h^k\n",
    "\\end{equation}\n",
    "\n",
    "we have the discretized spaces.\n",
    "\n",
    "Now, we can stated out our \"discretized\" Variational Formulation as:\n",
    "\n",
    "Find $u_h \\in \\mathcal{U}_h$ such that\n",
    "\n",
    "\\begin{equation}\n",
    "a(u_h, v_h) = F(v_h), \\quad \\forall v_h \\in \\mathcal{V}_h\n",
    "\\end{equation}\n",
    "\n",
    "where\n",
    "\n",
    "\\begin{align}\n",
    "a(u, v) &:= \\int_{\\Omega} \\frac{d u}{d x} \\frac{d v}{d x} dx \\\\\n",
    "F(v) &:= \\int_{\\Omega} f v dx\n",
    "\\end{align}\n",
    "\n",
    "and the domain is $\\overline{\\Omega} \\equiv [x_1, x_2]$."
   ]
  },
  {
   "cell_type": "markdown",
   "metadata": {},
   "source": [
    "### A practical FEniCS example\n",
    "\n",
    "Solve this in FEniCS is very straightforward compared to classical FEM codes. The FEniCS framework provides a high-level interface which eases the pain at most.\n",
    "\n",
    "Just for learning purpose, let the given data be setted as:\n",
    "\n",
    "\\begin{align}\n",
    "&f(x) \\equiv f = 1 \\\\\n",
    "&u_1 = u_2 = 0 \\\\\n",
    "&x_1 = 0, \\quad x_2 = 1\n",
    "\\end{align}\n",
    "\n",
    "With the source term as $f(x) = 1$, the exact solution can be easily obtained:\n",
    "\n",
    "\\begin{equation}\n",
    "u(x) = \\frac{1}{2}\\left(x_1^2 - x^2\\right) + \\left[\\frac{1}{2}(x_1 + x_2) + \\frac{u_1 - u_2}{x_1 - x_2} \\right] (x - x_1) + u_1\n",
    "\\end{equation}\n",
    "\n",
    "So, how to solve the problem with FEniCS? We will construct the procedures stepwise."
   ]
  },
  {
   "cell_type": "markdown",
   "metadata": {},
   "source": [
    "* Importing all the libs we'll need. "
   ]
  },
  {
   "cell_type": "code",
   "execution_count": 1,
   "metadata": {},
   "outputs": [],
   "source": [
    "from fenics import *  # all the FEniCS namespace (not a recommended Python practice)\n",
    "import matplotlib.pyplot as plt\n",
    "from matplotlib import rc\n",
    "import numpy as np"
   ]
  },
  {
   "cell_type": "markdown",
   "metadata": {},
   "source": [
    "* Defining the domain and related mesh"
   ]
  },
  {
   "cell_type": "code",
   "execution_count": 2,
   "metadata": {},
   "outputs": [],
   "source": [
    "x_left = 0.0\n",
    "x_right = 1.0\n",
    "numel = 15\n",
    "mesh = IntervalMesh(numel, x_left, x_right)  # IntervalMesh(num_of_elements, inf_interval, sup_interval)\n",
    "mesh_ref = IntervalMesh(100, x_left, x_right)"
   ]
  },
  {
   "cell_type": "markdown",
   "metadata": {},
   "source": [
    "* Setting the degree of the functions in the Continuous Galerkin method and the variation space. Additionaly, we define here a space to be employed in the projection of the reference analytical solution"
   ]
  },
  {
   "cell_type": "code",
   "execution_count": 3,
   "metadata": {},
   "outputs": [],
   "source": [
    "p = 1\n",
    "V = FunctionSpace(mesh, \"CG\", p)  # \"CG\" stands for Continuous Galerkin, p is the degree\n",
    "Vref = FunctionSpace(mesh_ref, \"CG\", p)"
   ]
  },
  {
   "cell_type": "markdown",
   "metadata": {},
   "source": [
    "* Defining a Python function which marks the boundaries"
   ]
  },
  {
   "cell_type": "code",
   "execution_count": 4,
   "metadata": {},
   "outputs": [],
   "source": [
    "def left(x, on_boundary):\n",
    "    return x < 0+DOLFIN_EPS\n",
    "def right(x, on_boundary):\n",
    "    return x > 1-DOLFIN_EPS"
   ]
  },
  {
   "cell_type": "markdown",
   "metadata": {},
   "source": [
    "* Setting the prescribed boundary values"
   ]
  },
  {
   "cell_type": "code",
   "execution_count": 5,
   "metadata": {},
   "outputs": [],
   "source": [
    "u1, u2 = 0.0, 0.0\n",
    "g_left = Constant(u1)\n",
    "g_right = Constant(u2)"
   ]
  },
  {
   "cell_type": "markdown",
   "metadata": {},
   "source": [
    "* Now we modify the spaces, as expected"
   ]
  },
  {
   "cell_type": "code",
   "execution_count": 6,
   "metadata": {},
   "outputs": [],
   "source": [
    "bc_left = DirichletBC(V, g_left, left)\n",
    "bc_right = DirichletBC(V, g_right, right)\n",
    "dirichlet_condition = [bc_left, bc_right]"
   ]
  },
  {
   "cell_type": "markdown",
   "metadata": {},
   "source": [
    "* Here we define the source function over the domain"
   ]
  },
  {
   "cell_type": "code",
   "execution_count": 7,
   "metadata": {},
   "outputs": [],
   "source": [
    "f = Constant(1)"
   ]
  },
  {
   "cell_type": "markdown",
   "metadata": {},
   "source": [
    "* Now comes the good part. We set up the Trial and Test functions from the admissible space"
   ]
  },
  {
   "cell_type": "code",
   "execution_count": 8,
   "metadata": {},
   "outputs": [],
   "source": [
    "u_h = TrialFunction(V)\n",
    "v_h = TestFunction(V)"
   ]
  },
  {
   "cell_type": "markdown",
   "metadata": {},
   "source": [
    "* Then we write the bilinear form, very much like it is written in mathematical form\n",
    "\n",
    "\\begin{equation}\n",
    "a(u_h, v_h) \\equiv \\left(\\frac{d u_h}{d x}, \\frac{d v_h}{d x}\\right) = \\int_{\\Omega} \\frac{d u_h}{d x} \\frac{d v_h}{d x} dx\n",
    "\\end{equation}"
   ]
  },
  {
   "cell_type": "code",
   "execution_count": 9,
   "metadata": {},
   "outputs": [],
   "source": [
    "a = inner(grad(v_h), grad(u_h))*dx"
   ]
  },
  {
   "cell_type": "markdown",
   "metadata": {},
   "source": [
    "* Also we define the associated linear form\n",
    "\n",
    "\\begin{equation}\n",
    "(f, v_h) = \\int_{\\Omega} f v_h dx\n",
    "\\end{equation}"
   ]
  },
  {
   "cell_type": "code",
   "execution_count": 10,
   "metadata": {},
   "outputs": [],
   "source": [
    "L = f*v_h*dx"
   ]
  },
  {
   "cell_type": "markdown",
   "metadata": {},
   "source": [
    "* Now we declare the solution variable, which means that `u_sol` is a function over the space $\\mathcal{V}$"
   ]
  },
  {
   "cell_type": "code",
   "execution_count": 11,
   "metadata": {},
   "outputs": [],
   "source": [
    "u_sol = Function(V)"
   ]
  },
  {
   "cell_type": "markdown",
   "metadata": {},
   "source": [
    "* Thus we set the discretized variational problem to be solved. The problem is declared with the FEniCS function `LinearVariationalProblem`, that has as arguments the LHS, the RHS, the variable where the solution will be stored and computed and the essential boundary conditions to be considered"
   ]
  },
  {
   "cell_type": "code",
   "execution_count": 12,
   "metadata": {},
   "outputs": [],
   "source": [
    "problem = LinearVariationalProblem(a, L, u_sol, dirichlet_condition)"
   ]
  },
  {
   "cell_type": "markdown",
   "metadata": {},
   "source": [
    "* And we go further and solve it with no difficulties!"
   ]
  },
  {
   "cell_type": "code",
   "execution_count": 13,
   "metadata": {},
   "outputs": [],
   "source": [
    "solver = LinearVariationalSolver(problem)\n",
    "solver.solve()"
   ]
  },
  {
   "cell_type": "markdown",
   "metadata": {},
   "source": [
    "* But we will need to check if the solution is \"good enough\". So we compare with the available exact solution"
   ]
  },
  {
   "cell_type": "code",
   "execution_count": 14,
   "metadata": {},
   "outputs": [],
   "source": [
    "sol_exact = Expression(\n",
    "    \"(1. / 2.) * (pow(x_1,2.0) - pow(x[0],2.0)) + \\\n",
    "    ((1./2.) * (x_1 + x_2) + (u_1 - u_2) / (x_1 - x_2)) * (x[0] - x_1) + u_1\", \n",
    "    degree=p+1, \n",
    "    u_1=u1, \n",
    "    u_2=u2, \n",
    "    x_1=x_left, \n",
    "    x_2=x_right\n",
    ")\n",
    "u_e = interpolate(sol_exact, Vref)"
   ]
  },
  {
   "cell_type": "markdown",
   "metadata": {},
   "source": [
    "* Now, lets plot our results!"
   ]
  },
  {
   "cell_type": "code",
   "execution_count": 15,
   "metadata": {},
   "outputs": [
    {
     "data": {
      "image/png": "[encoded data removed]",
      "text/plain": [
       "<Figure size 432x288 with 1 Axes>"
      ]
     },
     "metadata": {
      "needs_background": "light"
     },
     "output_type": "display_data"
    }
   ],
   "source": [
    "plot(u_sol, marker='x', label='Approx')\n",
    "plot(u_e, label='Exact')\n",
    "# Setting the font\n",
    "plt.rc('text',usetex=True)\n",
    "plt.rc('font', size=14)\n",
    "# Plotting\n",
    "plt.xlim(x_left, x_right)   # Limites do eixo x\n",
    "plt.ylim(np.min(u_sol.vector().get_local()), 1.02*np.max(u_e.vector().get_local()))  # Limites do eixo y\n",
    "plt.grid(True, linestyle='--')  # Ativa o grid do grafico\n",
    "plt.xlabel(r'$x$')  # Legenda do eixo x\n",
    "plt.ylabel(r'$u(x)$')   # Legenda do eixo y\n",
    "plt.legend(loc='best',borderpad=0.5)    # Ativa legenda no grafico e diz para se posicionar na melhor localizacao detectada\n",
    "plt.show()  # Exibe o grafico em tela"
   ]
  }
 ],
 "metadata": {
  "kernelspec": {
   "display_name": "Python 3",
   "language": "python",
   "name": "python3"
  },
  "language_info": {
   "codemirror_mode": {
    "name": "ipython",
    "version": 3
   },
   "file_extension": ".py",
   "mimetype": "text/x-python",
   "name": "python",
   "nbconvert_exporter": "python",
   "pygments_lexer": "ipython3",
   "version": "3.6.6"
  },
  "latex_envs": {
   "LaTeX_envs_menu_present": true,
   "autoclose": true,
   "autocomplete": true,
   "bibliofile": "biblio.bib",
   "cite_by": "apalike",
   "current_citInitial": 1,
   "eqLabelWithNumbers": true,
   "eqNumInitial": 1,
   "hotkeys": {
    "equation": "Ctrl-E",
    "itemize": "Ctrl-I"
   },
   "labels_anchors": false,
   "latex_user_defs": false,
   "report_style_numbering": false,
   "user_envs_cfg": false
  }
 },
 "nbformat": 4,
 "nbformat_minor": 2
}
